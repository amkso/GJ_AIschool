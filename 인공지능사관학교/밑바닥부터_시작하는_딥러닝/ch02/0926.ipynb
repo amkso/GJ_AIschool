{
 "cells": [
  {
   "cell_type": "code",
   "execution_count": 2,
   "id": "3bbc10ed",
   "metadata": {},
   "outputs": [
    {
     "name": "stdout",
     "output_type": "stream",
     "text": [
      "(0,0)-> 0\n",
      "(0,1)-> 0\n",
      "(1,0)-> 0\n",
      "(1,1)-> 1\n"
     ]
    }
   ],
   "source": [
    "def AND(x1,x2):\n",
    "    w1,w2,theta = 0.5,0.5,0.7\n",
    "    tmp = x1*w1 + x2*w2\n",
    "    if tmp <= theta : return 0\n",
    "    else : return 1\n",
    "\n",
    "if __name__ == \"__main__\":\n",
    "    print(\"(0,0)->\", AND(0,0))\n",
    "    print(\"(0,1)->\", AND(0,1))\n",
    "    print(\"(1,0)->\", AND(1,0))\n",
    "    print(\"(1,1)->\", AND(1,1))"
   ]
  },
  {
   "cell_type": "code",
   "execution_count": 3,
   "id": "97e0b302",
   "metadata": {},
   "outputs": [
    {
     "data": {
      "text/plain": [
       "array([0. , 0.5])"
      ]
     },
     "execution_count": 3,
     "metadata": {},
     "output_type": "execute_result"
    }
   ],
   "source": [
    "import numpy as np\n",
    "x = np.array([0,1])\n",
    "w = np.array([0.5,0.5])\n",
    "b = -0.7\n",
    "w*x"
   ]
  },
  {
   "cell_type": "code",
   "execution_count": 4,
   "id": "c78c8aa2",
   "metadata": {},
   "outputs": [
    {
     "data": {
      "text/plain": [
       "-0.19999999999999996"
      ]
     },
     "execution_count": 4,
     "metadata": {},
     "output_type": "execute_result"
    }
   ],
   "source": [
    "np.sum(w*x) + b"
   ]
  },
  {
   "cell_type": "code",
   "execution_count": 26,
   "id": "88afa753",
   "metadata": {},
   "outputs": [
    {
     "name": "stdout",
     "output_type": "stream",
     "text": [
      "----AND----\n",
      "(0,0) -> 0\n",
      "(0,1) -> 0\n",
      "(1,0) -> 0\n",
      "(1,1) -> 1\n",
      "----NAND----\n",
      "(0,0) -> 1\n",
      "(0,1) -> 1\n",
      "(1,0) -> 1\n",
      "(1,1) -> 0\n",
      "----OR----\n",
      "(0,0) -> 0\n",
      "(0,1) -> 1\n",
      "(1,0) -> 1\n",
      "(1,1) -> 1\n",
      "----NOR----\n",
      "(0,0) -> 1\n",
      "(0,1) -> 0\n",
      "(1,0) -> 0\n",
      "(1,1) -> 0\n",
      "----XOR----\n",
      "(0,0) -> 0\n",
      "(0,1) -> 1\n",
      "(1,0) -> 1\n",
      "(1,1) -> 0\n"
     ]
    }
   ],
   "source": [
    "def logicOp(x1,x2,op):\n",
    "    x = np.array([x1,x2])\n",
    "    w = np.array([0.5,0.5])\n",
    "    \n",
    "    if op == 'AND':\n",
    "        b = -0.7\n",
    "        tmp = np.sum(w*x) + b\n",
    "        return 0 if tmp <= 0 else 1\n",
    "    elif op == 'NAND':\n",
    "        b = -0.7\n",
    "        tmp = np.sum(w*x) + b\n",
    "        return 1 if tmp <= 0 else 0\n",
    "    elif op == 'OR':\n",
    "        b = -0.2\n",
    "        tmp = np.sum(w*x) + b\n",
    "        return 0 if tmp <= 0 else 1\n",
    "    elif op == 'NOR':\n",
    "        b = -0.2\n",
    "        tmp = np.sum(w*x) + b\n",
    "        return 1 if tmp <= 0 else 0\n",
    "    elif op == 'XOR':\n",
    "        x_1 = logicOp(x1,x2,'NAND')\n",
    "        x_2 = logicOp(x1,x2,'OR')\n",
    "        return logicOp(x_1,x_2,'AND')\n",
    "\n",
    "def display(op):\n",
    "    print(f\"----{op}----\")\n",
    "    for i in range(2):\n",
    "        for j in range(2):\n",
    "            print(f\"({i},{j}) ->\", logicOp(i,j,op))\n",
    "\n",
    "if __name__ == \"__main__\":\n",
    "    display('AND')\n",
    "    display('NAND')\n",
    "    display('OR')\n",
    "    display('NOR')\n",
    "    display('XOR')"
   ]
  },
  {
   "cell_type": "code",
   "execution_count": 32,
   "id": "2a564543",
   "metadata": {},
   "outputs": [
    {
     "data": {
      "text/plain": [
       "array([0, 1, 1])"
      ]
     },
     "execution_count": 32,
     "metadata": {},
     "output_type": "execute_result"
    }
   ],
   "source": [
    "def step_function(x):\n",
    "    y = x>0\n",
    "    return y.astype(np.int32)\n",
    "\n",
    "import numpy as np\n",
    "x = np.array([-1.,1.,2.])\n",
    "step_function(x)"
   ]
  },
  {
   "cell_type": "code",
   "execution_count": 47,
   "id": "7cf35e54",
   "metadata": {},
   "outputs": [
    {
     "data": {
      "image/png": "[encoded data removed]",
      "text/plain": [
       "<Figure size 432x288 with 1 Axes>"
      ]
     },
     "metadata": {
      "needs_background": "light"
     },
     "output_type": "display_data"
    }
   ],
   "source": [
    "import numpy as np\n",
    "import matplotlib.pyplot as plt\n",
    "\n",
    "def step_function(x): return (np.array(x) > 0).astype(np.int32)\n",
    "\n",
    "x = np.arange(-5.0,5.0,0.1)\n",
    "y = step_function(x)\n",
    "plt.plot(x,y)\n",
    "plt.ylim(-0.1,1.1)\n",
    "plt.show()"
   ]
  },
  {
   "cell_type": "code",
   "execution_count": 48,
   "id": "f6960cd4",
   "metadata": {},
   "outputs": [
    {
     "data": {
      "text/plain": [
       "array([0, 1, 0, 1])"
      ]
     },
     "execution_count": 48,
     "metadata": {},
     "output_type": "execute_result"
    }
   ],
   "source": [
    "step_function([-1,1,0,3])"
   ]
  },
  {
   "cell_type": "code",
   "execution_count": 51,
   "id": "9481d0fa",
   "metadata": {},
   "outputs": [
    {
     "data": {
      "text/plain": [
       "array([0.26894142, 0.73105858, 0.88079708])"
      ]
     },
     "execution_count": 51,
     "metadata": {},
     "output_type": "execute_result"
    }
   ],
   "source": [
    "import numpy as np\n",
    "import matplotlib.pyplot as plt\n",
    "\n",
    "def sigmoid(x): return 1 / (1 + np.exp(-np.array(x)))\n",
    "\n",
    "x = np.array([-1.,1.,2.])\n",
    "sigmoid(x)"
   ]
  },
  {
   "cell_type": "code",
   "execution_count": 52,
   "id": "85ad7376",
   "metadata": {},
   "outputs": [
    {
     "data": {
      "text/plain": [
       "array([2., 3., 4.])"
      ]
     },
     "execution_count": 52,
     "metadata": {},
     "output_type": "execute_result"
    }
   ],
   "source": [
    "t = np.array([1.,2.,3.])\n",
    "1. + t"
   ]
  },
  {
   "cell_type": "code",
   "execution_count": 53,
   "id": "0427df0c",
   "metadata": {},
   "outputs": [
    {
     "data": {
      "text/plain": [
       "array([1.        , 0.5       , 0.33333333])"
      ]
     },
     "execution_count": 53,
     "metadata": {},
     "output_type": "execute_result"
    }
   ],
   "source": [
    "1. / t"
   ]
  },
  {
   "cell_type": "code",
   "execution_count": 58,
   "id": "e0671cc4",
   "metadata": {},
   "outputs": [
    {
     "data": {
      "image/png": "[encoded data removed]",
      "text/plain": [
       "<Figure size 432x288 with 1 Axes>"
      ]
     },
     "metadata": {
      "needs_background": "light"
     },
     "output_type": "display_data"
    }
   ],
   "source": [
    "x = np.arange(-5.,5.,0.1)\n",
    "y = sigmoid(x)\n",
    "y1 = step_function(x)\n",
    "plt.plot(x,y)\n",
    "plt.plot(x,y1)\n",
    "plt.ylim(-0.1, 1.1)\n",
    "plt.show()"
   ]
  },
  {
   "cell_type": "code",
   "execution_count": null,
   "id": "5eb9197a",
   "metadata": {},
   "outputs": [],
   "source": []
  }
 ],
 "metadata": {
  "kernelspec": {
   "display_name": "Python 3 (ipykernel)",
   "language": "python",
   "name": "python3"
  },
  "language_info": {
   "codemirror_mode": {
    "name": "ipython",
    "version": 3
   },
   "file_extension": ".py",
   "mimetype": "text/x-python",
   "name": "python",
   "nbconvert_exporter": "python",
   "pygments_lexer": "ipython3",
   "version": "3.8.13"
  }
 },
 "nbformat": 4,
 "nbformat_minor": 5
}
